{
  "nbformat": 4,
  "nbformat_minor": 0,
  "metadata": {
    "colab": {
      "name": "Inventory_Management.ipynb",
      "provenance": [],
      "collapsed_sections": []
    },
    "kernelspec": {
      "display_name": "Python 3",
      "name": "python3"
    },
    "language_info": {
      "name": "python"
    }
  },
  "cells": [
    {
      "cell_type": "code",
      "metadata": {
        "id": "Mz6ZzJcVbjP5"
      },
      "source": [
        "# INVENTORY MANAGEMENT PROJECT \n",
        "# Made by:\n",
        "#   Atharv Patil\n",
        "#   Krishna Shreeram\n",
        "#   Gaurav Bhanot\n",
        "\n",
        "items={   # Quantity in Units for Snacks \n",
        "          1002001:{'Item':'Kurkure','Price':20,'Quantity':1000,'Shelf life':'2 Months'},\n",
        "          1002002:{'Item':'Lays','Price':20,'Quantity':1000,'Shelf Life':'2 Months'}, \n",
        "          1002003:{'Item':'Coke','Price':15,'Quantity':500,'Shelf Life':'4 Months'},\n",
        "          1002004:{'Item':'Perk','Price':5,'Quantity':1000,'Shelf Life':'3 Months'},\n",
        "          1002005:{'Item':'Parle-G','Price':10,'Quantity':100,'Shelf Life':'5 Months'},\n",
        "          1002006:{'Item':'Oreo','Price':15,'Quantity':700,'Shelf Life':'5 Months'},\n",
        "                \n",
        "          # Quantity in kgs for Produce \n",
        "          1002007:{'Item':'Onions', 'Price':90, 'Quantity':200,'Shelf Life':'1 Week'},\n",
        "          1002008:{'Item':'Potatoes', 'Price':20, 'Quantity':200,'Shelf Life':'1 Week'},\n",
        "          1002009:{'Item':'Spinach', 'Price':25, 'Quantity':300,'Shelf Life':'1 Week'},\n",
        "          1002010:{'Item':'Tomatoes', 'Price':45, 'Quantity':150,'Shelf Life':'1 Week'},\n",
        "          1002011:{'Item':'Banana', 'Price':45, 'Quantity':50,'Shelf Life':'1 Week'},\n",
        "          1002012:{'Item':'Apples', 'Price':50, 'Quantity':100,'Shelf Life':'1 Week'},\n",
        "                \n",
        "          # Quantity in Units for Dairy\n",
        "          1002013:{'Item':'Milk', 'Price':35, 'Quantity':230,'Shelf Life':'7 Days'},\n",
        "          1002014:{'Item':'Eggs', 'Price':60, 'Quantity':470,'Shelf Life':'12 Days'},\n",
        "          1002015:{'Item':'Butter', 'Price':25, 'Quantity':120,'Shelf Life':'3 Months'},\n",
        "          1002016:{'Item':'Cheese', 'Price':45, 'Quantity':270,'Shelf Life':'10 Months'},\n",
        "          1002017:{'Item':'Yoghurt', 'Price':45, 'Quantity':130,'Shelf Life':'3 Weeks'},\n",
        "          1002018:{'Item':'Ice cream', 'Price':50, 'Quantity':170,'Shelf Life':'3 Months'},  \n",
        "                \n",
        "          # Quantity in Kgs for Nuts & Dry Fruits\n",
        "          1002019:{'Item':'Almonds','Price': 275,'Quantity':150,'Shelf Life': '12 Months'},\n",
        "          1002020:{'Item':'Walnut','Price':285,'Quantity':140,'Shelf Life':'12 Months'},\n",
        "          1002021:{'Item':'Raisins','Price':250,'Quantity':180,'Shelf Life':'12 Months'},\n",
        "          1002022:{'Item':'Cashews','Price':240,'Quantity':130,'Shelf Life':'12 Months'},\n",
        "          1002023:{'Item':'Sesame Seeds','Price':200,'Quantity':100,'Shelf Life':'12 Months'},\n",
        "          1002024:{'Item':'Pumpkin Seeds','Price':190,'Quantity':80,'Shelf Life':'12 Months'}, \n",
        "                                     \n",
        "          # Quantity in Unit for Sauces & Oils  \n",
        "          1002025:{'Item':'Chipotle', 'Price':100, 'Quantity':400,'Shelf Life':'6-12 months'},\n",
        "          1002026:{'Item':'Peri peri', 'Price':100, 'Quantity':500,'Shelf Life':'6-12 months'},\n",
        "          1002027:{'Item':'Tomato ketchup', 'Price':80, 'Quantity':100,'Shelf Life':'6-12 months'},\n",
        "          1002028:{'Item':'Soya sauce', 'Price':120, 'Quantity':100,'Shelf Life':'6-12 months'},\n",
        "          1002029:{'Item':'Vegetable oil', 'Price':110, 'Quantity':150,'Shelf Life':'6-12 months'},\n",
        "          1002030:{'Item':'Olive oil', 'Price':140, 'Quantity':95,'Shelf Life':'6-12 months'},             \n",
        "      }"
      ],
      "execution_count": 103,
      "outputs": []
    },
    {
      "cell_type": "code",
      "metadata": {
        "id": "QCI5uYCTbrYv",
        "colab": {
          "base_uri": "https://localhost:8080/"
        },
        "outputId": "bc28ee92-c4e7-496a-9dc5-965b8b5d8f83"
      },
      "source": [
        "# Importing Libraries\n",
        "!pip install geocoder\n",
        "\n",
        "import json\n",
        "import time\n",
        "import math \n",
        "import geocoder\n",
        "from geopy.geocoders import Nominatim"
      ],
      "execution_count": 104,
      "outputs": [
        {
          "output_type": "stream",
          "name": "stdout",
          "text": [
            "Requirement already satisfied: geocoder in /usr/local/lib/python3.7/dist-packages (1.38.1)\n",
            "Requirement already satisfied: future in /usr/local/lib/python3.7/dist-packages (from geocoder) (0.16.0)\n",
            "Requirement already satisfied: requests in /usr/local/lib/python3.7/dist-packages (from geocoder) (2.23.0)\n",
            "Requirement already satisfied: ratelim in /usr/local/lib/python3.7/dist-packages (from geocoder) (0.1.6)\n",
            "Requirement already satisfied: six in /usr/local/lib/python3.7/dist-packages (from geocoder) (1.15.0)\n",
            "Requirement already satisfied: click in /usr/local/lib/python3.7/dist-packages (from geocoder) (7.1.2)\n",
            "Requirement already satisfied: decorator in /usr/local/lib/python3.7/dist-packages (from ratelim->geocoder) (4.4.2)\n",
            "Requirement already satisfied: idna<3,>=2.5 in /usr/local/lib/python3.7/dist-packages (from requests->geocoder) (2.10)\n",
            "Requirement already satisfied: certifi>=2017.4.17 in /usr/local/lib/python3.7/dist-packages (from requests->geocoder) (2021.5.30)\n",
            "Requirement already satisfied: urllib3!=1.25.0,!=1.25.1,<1.26,>=1.21.1 in /usr/local/lib/python3.7/dist-packages (from requests->geocoder) (1.24.3)\n",
            "Requirement already satisfied: chardet<4,>=3.0.2 in /usr/local/lib/python3.7/dist-packages (from requests->geocoder) (3.0.4)\n"
          ]
        }
      ]
    },
    {
      "cell_type": "code",
      "metadata": {
        "id": "o5tNGLqybs1h"
      },
      "source": [
        "# Converts dictionary to text\n",
        "inventory = json.dumps(items)"
      ],
      "execution_count": 105,
      "outputs": []
    },
    {
      "cell_type": "code",
      "metadata": {
        "id": "fDeTmr3Zb9fB"
      },
      "source": [
        "# Writing json file\n",
        "fd=open(\"Items.json\",\"w\")\n",
        "fd.write(inventory)\n",
        "fd.close()"
      ],
      "execution_count": 106,
      "outputs": []
    },
    {
      "cell_type": "code",
      "metadata": {
        "id": "FaXCazcHb_Pg"
      },
      "source": [
        "# Reading json file\n",
        "fd=open(\"Items.json\",\"r\")\n",
        "txt = fd.read()\n",
        "fd.close()"
      ],
      "execution_count": 107,
      "outputs": []
    },
    {
      "cell_type": "code",
      "metadata": {
        "id": "GKFC_FOrdFgZ"
      },
      "source": [
        "# Converts text to dictionary\n",
        "items = json.loads(txt)"
      ],
      "execution_count": 108,
      "outputs": []
    },
    {
      "cell_type": "code",
      "metadata": {
        "id": "xPGWk6wo70Z9"
      },
      "source": [
        "# Converting dict to list\n",
        "s=list(items.items())"
      ],
      "execution_count": 109,
      "outputs": []
    },
    {
      "cell_type": "code",
      "metadata": {
        "id": "bHErEK6eoZH2"
      },
      "source": [
        "# Defining Functions\n",
        "def products(choice):\n",
        "  # For snacks\n",
        "  if choice == 1:\n",
        "    for i in range(0,6):\n",
        "      print(s[i][1]['Item'],\":\",s[i][1]['Price'],\"Rs\") \n",
        "   \n",
        "   \n",
        "  # For produce\n",
        "  elif choice == 2:\n",
        "    for i in range(6,12):\n",
        "      print(s[i][1]['Item'],\":\",s[i][1]['Price'],\"Rs\")  \n",
        "  \n",
        "  # For dairy  \n",
        "  elif choice == 3:\n",
        "    for i in range(12,18):\n",
        "      print(s[i][1]['Item'],\":\",s[i][1]['Price'],\"Rs\") \n",
        "     \n",
        "  # For nuts & dry fruits       \n",
        "  elif choice == 4:\n",
        "    for i in range(18,24):\n",
        "      print(s[i][1]['Item'],\":\",s[i][1]['Price'],\"Rs\")\n",
        "  \n",
        "  # For sauces & oils    \n",
        "  elif choice == 5:\n",
        "    for i in range(24,30):\n",
        "      print(s[i][1]['Item'],\":\",s[i][1]['Price'],\"Rs\")\n",
        "   \n",
        "  # For all stock    \n",
        "  elif choice == 6:  \n",
        "    for key in items:\n",
        "      print(items[key]['Item'],\":\",items[key]['Price'],\"Rs\")   \n",
        "  # Error Handling    \n",
        "  else:\n",
        "    print(\"Please enter a valid choice!\")\n",
        "    choice = int(input(\"Enter the category number you would like to buy from : \"))\n",
        "    products(choice)"
      ],
      "execution_count": 110,
      "outputs": []
    },
    {
      "cell_type": "code",
      "metadata": {
        "colab": {
          "base_uri": "https://localhost:8080/"
        },
        "id": "ZqmX8Yy34Ib0",
        "outputId": "3cbbf07a-b7b5-4589-b729-d355164e9a54"
      },
      "source": [
        "# Category Selection\n",
        "print(\"                     WELCOME TO THE ETG STORE\")\n",
        "print(\"**************************************************************************\")\n",
        "print(\"      We have the following categories available in the store:\")\n",
        "print(\"      1. Snacks\")\n",
        "print(\"      2. Produce\")\n",
        "print(\"      3. Dairy\")\n",
        "print(\"      4. Nuts & Dry Fruits\")\n",
        "print(\"      5. Sauces & Oils\")\n",
        "print(\"      6. Show all products\")\n",
        "choice = int(input(\"Enter the category number you would like to buy from : \"))\n"
      ],
      "execution_count": 111,
      "outputs": [
        {
          "name": "stdout",
          "output_type": "stream",
          "text": [
            "                     WELCOME TO THE ETG STORE\n",
            "**************************************************************************\n",
            "      We have the following categories available in the store:\n",
            "      1. Snacks\n",
            "      2. Produce\n",
            "      3. Dairy\n",
            "      4. Nuts & Dry Fruits\n",
            "      5. Sauces & Oils\n",
            "      6. Show all products\n",
            "Enter the category number you would like to buy from : 7\n"
          ]
        }
      ]
    },
    {
      "cell_type": "code",
      "metadata": {
        "colab": {
          "base_uri": "https://localhost:8080/"
        },
        "id": "zhGMCYWg3Pmo",
        "outputId": "85500df3-ba1b-4caf-cb7c-bcad252d3c47"
      },
      "source": [
        "# List of items available in the store\n",
        "print(\"                     WELCOME TO THE ETG STORE\")\n",
        "print(\"**************************************************************************\")\n",
        "print(\"On the purchase of items worth 1000 Rs or more you will get a discount of 15%!\")\n",
        "print(\"**************************************************************************\")\n",
        "print(\"            The following items are available in the store:                \")\n",
        "print(\"**************************************************************************\")\n",
        "products(choice)\n",
        "print(\"**************************************************************************\")"
      ],
      "execution_count": 113,
      "outputs": [
        {
          "output_type": "stream",
          "name": "stdout",
          "text": [
            "                     WELCOME TO THE ETG STORE\n",
            "**************************************************************************\n",
            "On the purchase of items worth 1000 Rs or more you will get a discount of 15%!\n",
            "**************************************************************************\n",
            "            The following items are available in the store:                \n",
            "**************************************************************************\n",
            "Please enter a valid choice!\n",
            "Enter the category number you would like to buy from : 5\n",
            "Chipotle : 100 Rs\n",
            "Peri peri : 100 Rs\n",
            "Tomato ketchup : 80 Rs\n",
            "Soya sauce : 120 Rs\n",
            "Vegetable oil : 110 Rs\n",
            "Olive oil : 140 Rs\n",
            "**************************************************************************\n"
          ]
        }
      ]
    },
    {
      "cell_type": "code",
      "metadata": {
        "colab": {
          "base_uri": "https://localhost:8080/"
        },
        "id": "15NMutZffTO3",
        "outputId": "885693ca-6cbd-44b7-f692-c6c38176bb83"
      },
      "source": [
        "# Asking customers for items and adding in cart\n",
        "cart=[]\n",
        "check = 0\n",
        "flag = True\n",
        "total_price = 0\n",
        "item = 0\n",
        "while(flag==True):\n",
        "  item_name = input(\"Enter the item you want to purchase : \")\n",
        "  item_quantity = int(input(\"Enter the number of units you would like to buy : \"))\n",
        "  for key in items:\n",
        "\n",
        "    if item_name.lower()==items[key][\"Item\"].lower():\n",
        "      check = 1 \n",
        "      # Error Handling\n",
        "      if item_quantity > items[key][\"Quantity\"]:\n",
        "        print(\"We only have\",items[key][\"Quantity\"],\"in stock.\")\n",
        "        break\n",
        "          \n",
        "      # Adding Items to cart\n",
        "      print(item_quantity,\"units of\",items[key][\"Item\"],\"each of\",items[key]['Price'],\"Rs added to your cart\")\n",
        "      items[key]['Quantity']=items[key]['Quantity']-item_quantity\n",
        "      total_price += items[key]['Price']*item_quantity\n",
        "      item+=1\n",
        "      cart_value=items[key][\"Item\"]+\", Price : \"+str(items[key][\"Price\"])+\" Rs, Units : \"+str(item_quantity)\n",
        "      cart.append(cart_value)\n",
        "\n",
        "  # For items not available in store\n",
        "  if check == 0:\n",
        "    print(\"Item not found.\")\n",
        "  \n",
        "  if input(\"Do you want to continue shopping? (Yes/No): \").lower()==\"yes\":\n",
        "    flag = True\n",
        "    choice = int(input(\"Enter the category number you would like to buy from : \"))       \n",
        "    products(choice)   \n",
        "    print(\"**************************************************************************\")  \n",
        "  else:\n",
        "    flag = False    "
      ],
      "execution_count": 114,
      "outputs": [
        {
          "name": "stdout",
          "output_type": "stream",
          "text": [
            "Enter the item you want to purchase : Peri Peri\n",
            "Enter the number of units you would like to buy : 452\n",
            "452 units of Peri peri each of 100 Rs added to your cart\n",
            "Do you want to continue shopping? (Yes/No): yes\n",
            "Enter the category number you would like to buy from : 1\n",
            "Kurkure : 20 Rs\n",
            "Lays : 20 Rs\n",
            "Coke : 15 Rs\n",
            "Perk : 5 Rs\n",
            "Parle-G : 10 Rs\n",
            "Oreo : 15 Rs\n",
            "**************************************************************************\n",
            "Enter the item you want to purchase : Kurkure\n",
            "Enter the number of units you would like to buy : 10\n",
            "10 units of Kurkure each of 20 Rs added to your cart\n",
            "Do you want to continue shopping? (Yes/No): yes\n",
            "Enter the category number you would like to buy from : 5\n",
            "Chipotle : 100 Rs\n",
            "Peri peri : 100 Rs\n",
            "Tomato ketchup : 80 Rs\n",
            "Soya sauce : 120 Rs\n",
            "Vegetable oil : 110 Rs\n",
            "Olive oil : 140 Rs\n",
            "**************************************************************************\n",
            "Enter the item you want to purchase : Olive Oil\n",
            "Enter the number of units you would like to buy : 90\n",
            "90 units of Olive oil each of 140 Rs added to your cart\n",
            "Do you want to continue shopping? (Yes/No): no\n"
          ]
        }
      ]
    },
    {
      "cell_type": "code",
      "metadata": {
        "id": "dLUwnYpWlFmB",
        "colab": {
          "base_uri": "https://localhost:8080/"
        },
        "outputId": "452e7780-38fb-43d7-a9aa-44889602a324"
      },
      "source": [
        "# Checking Stock for all items\n",
        "for key in items:\n",
        "  if items[key]['Quantity'] < 50:\n",
        "    print(items[key]['Item'],\": Alert! Low on quantity. Restock!\")"
      ],
      "execution_count": 115,
      "outputs": [
        {
          "output_type": "stream",
          "name": "stdout",
          "text": [
            "Peri peri : Alert! Low on quantity. Restock!\n",
            "Olive oil : Alert! Low on quantity. Restock!\n"
          ]
        }
      ]
    },
    {
      "cell_type": "code",
      "metadata": {
        "colab": {
          "base_uri": "https://localhost:8080/"
        },
        "id": "-mus4ewumFPn",
        "outputId": "845ccbcc-9b7a-4464-c4b8-829e1b735272"
      },
      "source": [
        "#Checking Stock for specific items\n",
        "flag = True\n",
        "check = 0\n",
        "while(flag == True):\n",
        "  item_stock_check=input(\"Enter the item's stock you want to check : \")\n",
        "  for key in items:\n",
        "    if items[key]['Item'].lower() == item_stock_check.lower():\n",
        "      check = 1\n",
        "      print(items[key]['Item'],\":\",items[key]['Quantity'])\n",
        "  if check == 0:\n",
        "    print(\"This item is not found in the inventory.\")\n",
        "  check = 0      \n",
        "  if input(\"Do you want to check the stock for another item? (Yes/No): \").lower()==\"yes\":\n",
        "    flag = True            \n",
        "  else:\n",
        "    flag = False    "
      ],
      "execution_count": 119,
      "outputs": [
        {
          "name": "stdout",
          "output_type": "stream",
          "text": [
            "Enter the item's stock you want to check : Olive Oil\n",
            "Olive oil : 5\n",
            "Do you want to check the stock for another item? (Yes/No): yes\n",
            "Enter the item's stock you want to check : Fanta\n",
            "This item is not found in the inventory.\n",
            "Do you want to check the stock for another item? (Yes/No): no\n"
          ]
        }
      ]
    },
    {
      "cell_type": "code",
      "metadata": {
        "id": "fnDCUX8NgPGn",
        "colab": {
          "base_uri": "https://localhost:8080/"
        },
        "outputId": "b05f72bc-c273-447e-a490-5a2aa7cf62c7"
      },
      "source": [
        "# Viewing cart \n",
        "cart_see=input(\"Do you want to see your cart?(Yes/No) \")\n",
        "if cart_see.lower() == \"yes\":\n",
        " print(\"These are the items you have added in your cart: \")\n",
        " for i in range(len(cart)):\n",
        "  print(cart[i])"
      ],
      "execution_count": 120,
      "outputs": [
        {
          "output_type": "stream",
          "name": "stdout",
          "text": [
            "Do you want to see your cart?(Yes/No) yes\n",
            "These are the items you have added in your cart: \n",
            "Peri peri, Price : 100 Rs, Units : 452\n",
            "Kurkure, Price : 20 Rs, Units : 10\n",
            "Olive oil, Price : 140 Rs, Units : 90\n"
          ]
        }
      ]
    },
    {
      "cell_type": "code",
      "metadata": {
        "id": "fatsDxE8dtTT",
        "colab": {
          "base_uri": "https://localhost:8080/"
        },
        "outputId": "66d9f49b-11ec-4cc9-b33e-248b6440ef1e"
      },
      "source": [
        "# Discount\n",
        "if total_price > 1000:\n",
        "  print(\"Congratualations! You are eligible for a 15% discount!\")\n",
        "  print(\"Let's get you your Bill\")\n",
        "  total_price*=0.85\n",
        "  discounted_price=total_price\n",
        "else:\n",
        "  print(\"Let's get you your Bill\")\n",
        "  discounted_price=total_price;"
      ],
      "execution_count": 121,
      "outputs": [
        {
          "output_type": "stream",
          "name": "stdout",
          "text": [
            "Congratualations! You are eligible for a 15% discount!\n",
            "Let's get you your Bill\n"
          ]
        }
      ]
    },
    {
      "cell_type": "code",
      "metadata": {
        "id": "SKmFuHV3T6b3",
        "colab": {
          "base_uri": "https://localhost:8080/"
        },
        "outputId": "58090069-645f-47d8-e0b1-f15d84953516"
      },
      "source": [
        "# ETG Membership\n",
        "members = {'Atharv':{'Number':'8879923737','Points':0},\n",
        "           'Krishna':{'Number':'8976879892','Points':50},\n",
        "           'Gaurav':{'Number':'6969696969','Points':200}\n",
        "           }\n",
        "mem_points=0\n",
        "member = input(\"Are you an existing member of The ETG Store? (Yes/No) : \")\n",
        "if member.lower() == \"yes\":\n",
        "  member_name = input(\"Enter your name : \")\n",
        "  phone_number = input(\"Enter your mobile number : \")\n",
        "  # Checking for number in database\n",
        "  if phone_number == members[member_name][\"Number\"]:\n",
        "    # Payment by Points\n",
        "    use_points = input(\"Would you like to use your points? (Yes/No) : \")\n",
        "    if members[member_name]['Points'] == 0:\n",
        "      print(\"Sorry, you have no points left.\")\n",
        "      members[member_name]['Points'] += total_price * 0.1\n",
        "    else:  \n",
        "      mem_points = members[member_name]['Points'] \n",
        "      members[member_name]['Points'] = 0\n",
        "      members[member_name]['Points'] += total_price * 0.1\n",
        "  else:\n",
        "    print(\"Sorry! We could not find your number.\")\n",
        "    mem_points=0\n",
        "else:\n",
        "  new_mem=input(\"Would you like to become a member? (Yes/No) : \")\n",
        "  if new_mem.lower() == \"yes\":\n",
        "    new_name=input(\"Enter your name : \")\n",
        "    new_phonenum=int(input(\"Enter your phone number : \"))\n",
        "    new_data={'Number':new_phonenum,'Points':0}\n",
        "    members[new_name]=new_data\n",
        "    members[new_name]['Points'] = total_price * 0.1\n",
        "    print(\"Congratulations on becoming a member!!\")"
      ],
      "execution_count": 122,
      "outputs": [
        {
          "output_type": "stream",
          "name": "stdout",
          "text": [
            "Are you an existing member of The ETG Store? (Yes/No) : no\n",
            "Would you like to become a member? (Yes/No) : yes\n",
            "Enter your name : Ashish\n",
            "Enter your phone number : 8769867469\n",
            "Congratulations on becoming a member!!\n"
          ]
        }
      ]
    },
    {
      "cell_type": "code",
      "metadata": {
        "id": "GtJ8CM0QTYxY",
        "colab": {
          "base_uri": "https://localhost:8080/"
        },
        "outputId": "7a8116c0-7727-47b8-92cc-3e35f2065cc1"
      },
      "source": [
        "# Tax\n",
        "final_price = math.ceil(total_price+(total_price*0.025)-mem_points)\n",
        "print(\"Total Price :\",final_price,\"Rs\")\n",
        "\n",
        "# Payment by customer\n",
        "payment =  int(input(\"Amount Paid : \"))\n",
        "if payment < final_price:\n",
        "  print(\"Your total price is\",final_price,\"Rs\")\n",
        "  payment =  int(input(\"Amount Paid : \"))\n",
        "change = payment - final_price "
      ],
      "execution_count": 123,
      "outputs": [
        {
          "name": "stdout",
          "output_type": "stream",
          "text": [
            "Total Price : 50533 Rs\n",
            "Amount Paid : 51000\n"
          ]
        }
      ]
    },
    {
      "cell_type": "code",
      "metadata": {
        "id": "-xhiv7wns09l"
      },
      "source": [
        "# Getting the location\n",
        "geoLoc = Nominatim(user_agent=\"GetLoc\")\n",
        "g = geocoder.ip('me')\n",
        "locname = geoLoc.reverse(g.latlng)\n",
        "# Spliting the location \n",
        "words = locname.address.split()\n",
        "grouped_words = [' '.join(words[i: i + 6]) for i in range(0, len(words), 6)]"
      ],
      "execution_count": 124,
      "outputs": []
    },
    {
      "cell_type": "code",
      "metadata": {
        "id": "0LRdU8NHnTUs",
        "colab": {
          "base_uri": "https://localhost:8080/"
        },
        "outputId": "7268e130-b2ee-41a7-fae0-50aa02a65e7d"
      },
      "source": [
        "# Billing\n",
        "location=input(\"Is this a home delivery order? (Yes/No) : \")\n",
        "# For on shop billing\n",
        "if location.lower() == \"no\":\n",
        "  print(\"                  The ETG Store!                  \")\n",
        "  print(\"     MG Road, Sector 11, Plot no. 22, Bangalore    \")     \n",
        "  print(\"             Phone number: 7559396109              \")                                \n",
        "  print(\"**************************************************\")\n",
        "  print(\"                      Bill                        \")\n",
        "  print(\"**************************************************\")\n",
        "  print(\"           \",time.ctime(),\"                   \")\n",
        "  print(\"**************************************************\")\n",
        "  print(\"                     Item(s)                      \\n\")\n",
        "  print(\"            Total number of items:\",item)\n",
        "\n",
        "\n",
        "  for i in range(len(cart)):\n",
        "    print(\"       \",cart[i])\n",
        "    print(\"**************************************************\")\n",
        "\n",
        "  print(\"    Price after discount(if applicable):\",discounted_price,\"Rs\")\n",
        "  print(\"           Price excluding tax:\",total_price,\"Rs.\")\n",
        "  print(\"           Price including tax:\",final_price,\"Rs.\")\n",
        "  print(\"**************************************************\")\n",
        "  print(\"              Amount Paid: \",payment,\"Rs.\") \n",
        "  print(\"             Amount Returned: \",change, \"Rs.\")  \n",
        "  print(\"**************************************************\\n\")\n",
        "\n",
        "  print(\"         Thank you for shopping with us!         \\n\")\n",
        "\n",
        "# For door step billing\n",
        "else:\n",
        "  print(\"                  The ETG Store!                  \")\n",
        "  print(\"     MG Road, Sector 11, Plot no. 22, Bangalore    \")     \n",
        "  print(\"             Phone number: 7559396109              \")                                \n",
        "  print(\"**************************************************\")\n",
        "  print(\"                      Bill                        \")\n",
        "  print(\"**************************************************\")\n",
        "  print(\"           \",time.ctime(),\"                   \")\n",
        "  print(\"**************************************************\")\n",
        "  print(\"                 Delivered To:\")\n",
        "  # Printing the location\n",
        "  for i in grouped_words:\n",
        "    print(i)\n",
        "  print(\"**************************************************\")\n",
        "  print(\"                     Item(s)                      \\n\")\n",
        "  print(\"            Total number of items:\",item)\n",
        "\n",
        "\n",
        "  for i in range(len(cart)):\n",
        "    print(\"       \",cart[i])\n",
        "    print(\"**************************************************\")\n",
        "\n",
        "  print(\"    Price after discount(if applicable):\",discounted_price,\"Rs\")\n",
        "  print(\"           Price excluding tax:\",total_price,\"Rs.\")\n",
        "  print(\"           Price including tax:\",final_price,\"Rs.\")\n",
        "  print(\"**************************************************\")\n",
        "  print(\"              Amount Paid: \",payment,\"Rs.\") \n",
        "  print(\"             Amount Returned: \",change, \"Rs.\")  \n",
        "  print(\"**************************************************\\n\")\n",
        "\n",
        "  print(\"         Thank you for shopping with us!         \\n\")\n"
      ],
      "execution_count": 125,
      "outputs": [
        {
          "output_type": "stream",
          "name": "stdout",
          "text": [
            "Is this a home delivery order? (Yes/No) : yes\n",
            "                  The ETG Store!                  \n",
            "     MG Road, Sector 11, Plot no. 22, Bangalore    \n",
            "             Phone number: 7559396109              \n",
            "**************************************************\n",
            "                      Bill                        \n",
            "**************************************************\n",
            "            Mon Sep  6 12:08:42 2021                    \n",
            "**************************************************\n",
            "                 Delivered To:\n",
            "National Christmas Tree, Ellipse Road Northwest,\n",
            "Washington, District of Columbia, 20500, United\n",
            "States\n",
            "**************************************************\n",
            "                     Item(s)                      \n",
            "\n",
            "            Total number of items: 3\n",
            "        Peri peri, Price : 100 Rs, Units : 452\n",
            "**************************************************\n",
            "        Kurkure, Price : 20 Rs, Units : 10\n",
            "**************************************************\n",
            "        Olive oil, Price : 140 Rs, Units : 90\n",
            "**************************************************\n",
            "    Price after discount(if applicable): 49300.0 Rs\n",
            "           Price excluding tax: 49300.0 Rs.\n",
            "           Price including tax: 50533 Rs.\n",
            "**************************************************\n",
            "              Amount Paid:  51000 Rs.\n",
            "             Amount Returned:  467 Rs.\n",
            "**************************************************\n",
            "\n",
            "         Thank you for shopping with us!         \n",
            "\n"
          ]
        }
      ]
    },
    {
      "cell_type": "code",
      "metadata": {
        "id": "B_83Y6vucbES"
      },
      "source": [
        "# For updating items.json file\n",
        "inventory=json.dumps(items)\n",
        "fd=open(\"Items.json\",\"w\")\n",
        "fd.write(inventory)\n",
        "fd.close()"
      ],
      "execution_count": 126,
      "outputs": []
    },
    {
      "cell_type": "code",
      "metadata": {
        "id": "aYZ7kKiWhwxb"
      },
      "source": [
        "# For updating member.json file\n",
        "num=json.dumps(members)\n",
        "fd=open(\"Members.json\",\"w\")\n",
        "fd.write(num)\n",
        "fd.close()"
      ],
      "execution_count": 127,
      "outputs": []
    }
  ]
}